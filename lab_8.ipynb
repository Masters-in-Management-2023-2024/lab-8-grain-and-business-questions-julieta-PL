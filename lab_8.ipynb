{
  "cells": [
    {
      "cell_type": "markdown",
      "metadata": {
        "id": "-rlkW6Y0xL6P"
      },
      "source": [
        "# Diamond Company Analytics Challenge\n",
        "\n",
        "**Time:** 35 minutes\n",
        "\n",
        "**Scenario:** You are the new data analyst at a prestigious diamond company. The CEO has called an urgent meeting and needs answers to critical business questions about the inventory.\n",
        "\n",
        "**Your Mission:** Analyze the diamond inventory data and provide insights to guide strategic decisions."
      ]
    },
    {
      "cell_type": "code",
      "execution_count": null,
      "metadata": {
        "colab": {
          "base_uri": "https://localhost:8080/"
        },
        "id": "88O6ezRRxL6Q",
        "outputId": "820305d1-0943-4848-8d7e-8fedd2783317"
      },
      "outputs": [
        {
          "output_type": "stream",
          "name": "stdout",
          "text": [
            "Loading diamonds dataset...\n",
            "Dataset loaded successfully!\n"
          ]
        }
      ],
      "source": [
        "import polars as pl\n",
        "\n",
        "# Load the diamonds dataset\n",
        "print(\"Loading diamonds dataset...\")\n",
        "df = pl.read_csv('https://raw.githubusercontent.com/pycaret/pycaret/master/datasets/diamond.csv')\n",
        "print(\"Dataset loaded successfully!\")"
      ]
    },
    {
      "cell_type": "markdown",
      "metadata": {
        "id": "p8MlNzl0xL6R"
      },
      "source": [
        "## Section 1: Initial Inventory Assessment (5 minutes)\n",
        "\n",
        "The CEO walks in: \"Before we dive into specifics, I need to understand what we're working with. Give me the basics about our inventory database.\""
      ]
    },
    {
      "cell_type": "markdown",
      "metadata": {
        "id": "fh2t66K7xL6R"
      },
      "source": [
        "### Question 1: \"How extensive is our inventory database?\"\n",
        "\n",
        "The CEO needs to know the scale of data you're analyzing."
      ]
    },
    {
      "cell_type": "code",
      "execution_count": null,
      "metadata": {
        "colab": {
          "base_uri": "https://localhost:8080/"
        },
        "id": "-jjqV77GxL6S",
        "outputId": "7cd906da-a359-43b2-d2db-efc3c287a93c"
      },
      "outputs": [
        {
          "output_type": "stream",
          "name": "stdout",
          "text": [
            "Number of diamonds: 6000\n"
          ]
        }
      ],
      "source": [
        "# Your code here:\n",
        "count = len(df)\n",
        "print(f\"Number of diamonds: {count}\")\n",
        "\n"
      ]
    },
    {
      "cell_type": "markdown",
      "metadata": {
        "id": "SmhUwK4NxL6S"
      },
      "source": [
        "### Question 2: \"What information do we track about each diamond?\"\n",
        "\n",
        "List all the characteristics we record."
      ]
    },
    {
      "cell_type": "code",
      "execution_count": null,
      "metadata": {
        "colab": {
          "base_uri": "https://localhost:8080/"
        },
        "id": "0F4hpgSDxL6S",
        "outputId": "317a294b-492a-41e7-e022-3ab0bb2b20ca"
      },
      "outputs": [
        {
          "output_type": "stream",
          "name": "stdout",
          "text": [
            "We track this information for each diamond: ['Carat Weight', 'Cut', 'Color', 'Clarity', 'Polish', 'Symmetry', 'Report', 'Price']\n"
          ]
        }
      ],
      "source": [
        "# Your code here:\n",
        "\n",
        "print(f\"Columns: {df.columns}\")\n"
      ]
    },
    {
      "cell_type": "markdown",
      "metadata": {
        "id": "iptcPH4axL6S"
      },
      "source": [
        "### Question 3: \"When I look at one line in this database, what am I looking at?\"\n",
        "\n",
        "Explain in business terms:"
      ]
    },
    {
      "cell_type": "markdown",
      "metadata": {
        "id": "bqee1n3UxL6S"
      },
      "source": [
        "**Your answer:** Each row represents: Each line represents a diamond in our inventory and their respective information\n"
      ]
    },
    {
      "cell_type": "markdown",
      "metadata": {
        "id": "ulsSHex7xL6S"
      },
      "source": [
        "## Section 2: Strategic Business Questions (20 minutes)\n",
        "\n",
        "The CEO continues: \"Now let's get to the important questions. Our board meeting is tomorrow and I need concrete numbers.\""
      ]
    },
    {
      "cell_type": "markdown",
      "metadata": {
        "id": "JQdvTYioxL6T"
      },
      "source": [
        "### Question 4: \"We're considering expanding our storage facilities. How many total carats do we have in inventory? I need to know if our vaults can handle the weight.\"\n",
        "\n",
        "Think about what measurement would help answer this."
      ]
    },
    {
      "cell_type": "code",
      "execution_count": null,
      "metadata": {
        "colab": {
          "base_uri": "https://localhost:8080/"
        },
        "id": "rZqB0rP5xL6T",
        "outputId": "aaadbc04-09aa-4021-987c-37d916eee993"
      },
      "outputs": [
        {
          "output_type": "stream",
          "name": "stdout",
          "text": [
            "Total carats in inventory: 8007.120000000001\n"
          ]
        }
      ],
      "source": [
        "# Your code here:\n",
        "total_carats = df['Carat Weight'].sum()\n",
        "print(f\"Total carats in inventory: {total_carats}\")\n"
      ]
    },
    {
      "cell_type": "markdown",
      "metadata": {
        "id": "v5uUbUxTxL6T"
      },
      "source": [
        "### Question 5: \"Our new marketing campaign claims we have 'the widest variety of cuts in the industry.' Can you verify this?\"\n",
        "\n",
        "The CEO wants to know about variety, not quantity."
      ]
    },
    {
      "cell_type": "code",
      "execution_count": null,
      "metadata": {
        "colab": {
          "base_uri": "https://localhost:8080/"
        },
        "id": "kMUi-3zcxL6T",
        "outputId": "69106008-0e7a-42ee-c2f0-99d04d341b19"
      },
      "outputs": [
        {
          "output_type": "stream",
          "name": "stdout",
          "text": [
            "Number of Unique Cuts in our inventory: 5\n",
            "Cuts: ['Good', 'Signature-Ideal', 'Very Good', 'Ideal', 'Fair']\n"
          ]
        }
      ],
      "source": [
        "# Your code here:\n",
        "\n",
        "cut_variety = df['Cut'].n_unique()\n",
        "cut_names = df['Cut'].unique()\n",
        "print(f\"Number of Unique Cuts in our inventory: {cut_variety}\")\n",
        "print(f\"Cuts: {cut_names.to_list()}\")"
      ]
    },
    {
      "cell_type": "markdown",
      "metadata": {
        "id": "XL5FAmWGxL6T"
      },
      "source": [
        "### Question 6: \"I'm meeting with our insurance company. They need to know our price exposure - what's our most and least valuable diamond?\""
      ]
    },
    {
      "cell_type": "code",
      "execution_count": null,
      "metadata": {
        "colab": {
          "base_uri": "https://localhost:8080/"
        },
        "id": "63fJsoD5xL6T",
        "outputId": "85ee0900-9fa0-476f-97f1-7325cae4738e"
      },
      "outputs": [
        {
          "output_type": "stream",
          "name": "stdout",
          "text": [
            "Most Valuable Diamond: $101,561.00\n",
            "Least Valuable Diamond: $2,184.00\n"
          ]
        }
      ],
      "source": [
        "# Your code here:\n",
        "max_price = df.select(pl.col(\"Price\").max()).item()\n",
        "print(f\"Most Valuable Diamond: ${max_price:,.2f}\")\n",
        "\n",
        "min_price = df.select(pl.col(\"Price\").min()).item()\n",
        "print(f\"Least Valuable Diamond: ${min_price:,.2f}\")"
      ]
    },
    {
      "cell_type": "markdown",
      "metadata": {
        "id": "K9a6TXqQxL6T"
      },
      "source": [
        "### Question 7: \"Which color grades should we focus on in our premium line? I need typical prices across our color spectrum.\"\n",
        "\n",
        "The CEO wants to understand pricing patterns."
      ]
    },
    {
      "cell_type": "code",
      "execution_count": null,
      "metadata": {
        "colab": {
          "base_uri": "https://localhost:8080/"
        },
        "id": "BH3Odo7exL6U",
        "outputId": "a301eab9-67a5-4f24-aaaf-b5fcf60130a8"
      },
      "outputs": [
        {
          "output_type": "stream",
          "name": "stdout",
          "text": [
            "shape: (6, 2)\n",
            "┌───────┬──────────────┐\n",
            "│ Color ┆ Price        │\n",
            "│ ---   ┆ ---          │\n",
            "│ str   ┆ f64          │\n",
            "╞═══════╪══════════════╡\n",
            "│ I     ┆ 8989.636364  │\n",
            "│ F     ┆ 12712.241856 │\n",
            "│ E     ┆ 11539.190231 │\n",
            "│ H     ┆ 10487.347544 │\n",
            "│ G     ┆ 12520.050633 │\n",
            "│ D     ┆ 15255.783661 │\n",
            "└───────┴──────────────┘\n"
          ]
        }
      ],
      "source": [
        "# Your code here:\n",
        "prices_color = df.group_by('Color').agg(pl.col('Price').mean())\n",
        "print(prices_color)"
      ]
    },
    {
      "cell_type": "markdown",
      "metadata": {
        "id": "jbgsJ0B1xL6U"
      },
      "source": [
        "**Reflection:** After analyzing by color, how has your view of the data changed? What does each row in your result represent now?"
      ]
    },
    {
      "cell_type": "markdown",
      "metadata": {
        "id": "6MOp5gZGxL6U"
      },
      "source": [
        "**Your answer:** New grain = Each row represents a different color and its respective price average\n"
      ]
    },
    {
      "cell_type": "markdown",
      "metadata": {
        "id": "Hm8V60iSxL6U"
      },
      "source": [
        "## Section 3: Advanced Strategic Analysis (10 minutes)\n",
        "\n",
        "The CEO leans forward: \"These next questions will shape our strategy for next year.\""
      ]
    },
    {
      "cell_type": "markdown",
      "metadata": {
        "id": "2__viGIixL6U"
      },
      "source": [
        "### Question 8: \"We're thinking of specializing in certain clarity grades. For our investor deck, I need a complete breakdown showing: how many diamonds we have in each clarity grade, their typical price, and the total carats we're holding for each grade.\""
      ]
    },
    {
      "cell_type": "code",
      "execution_count": null,
      "metadata": {
        "colab": {
          "base_uri": "https://localhost:8080/"
        },
        "id": "YICz14uJxL6U",
        "outputId": "7bf81adb-6dca-4198-996d-0a902b18627d"
      },
      "outputs": [
        {
          "output_type": "stream",
          "name": "stdout",
          "text": [
            "shape: (7, 4)\n",
            "┌─────────┬──────────────┬───────┬────────────────────┐\n",
            "│ Clarity ┆ avg_price    ┆ count ┆ total_carat_weight │\n",
            "│ ---     ┆ ---          ┆ ---   ┆ ---                │\n",
            "│ str     ┆ f64          ┆ u32   ┆ f64                │\n",
            "╞═════════╪══════════════╪═══════╪════════════════════╡\n",
            "│ FL      ┆ 63776.0      ┆ 4     ┆ 7.87               │\n",
            "│ IF      ┆ 22105.844749 ┆ 219   ┆ 316.0              │\n",
            "│ VVS1    ┆ 16845.680702 ┆ 285   ┆ 389.43             │\n",
            "│ VVS2    ┆ 14142.177177 ┆ 666   ┆ 876.58             │\n",
            "│ VS1     ┆ 13694.113255 ┆ 1192  ┆ 1682.74            │\n",
            "│ VS2     ┆ 11809.053333 ┆ 1575  ┆ 2170.81            │\n",
            "│ SI1     ┆ 8018.864012  ┆ 2059  ┆ 2563.69            │\n",
            "└─────────┴──────────────┴───────┴────────────────────┘\n"
          ]
        }
      ],
      "source": [
        "# Your code here:\n",
        "clarity_breakdown = df.group_by(\"Clarity\").agg(\n",
        "    pl.col(\"Price\").mean().alias(\"avg_price\"),\n",
        "    pl.len().alias(\"count\"),pl.col(\"Carat Weight\").sum().alias(\"total_carat_weight\")\n",
        ").sort(\"avg_price\", descending=True)\n",
        "print(clarity_breakdown)"
      ]
    },
    {
      "cell_type": "markdown",
      "metadata": {
        "id": "xfduaVYwxL6U"
      },
      "source": [
        "### Question 9: \"My luxury competitor claims they have the best prices for every cut-color combination. Show me our pricing structure across these combinations - I want to see where we're competitive.\""
      ]
    },
    {
      "cell_type": "code",
      "execution_count": null,
      "metadata": {
        "colab": {
          "base_uri": "https://localhost:8080/"
        },
        "id": "rjJdnDCTxL6U",
        "outputId": "0c5cc13c-936b-48e1-ef59-e065c50c55a1"
      },
      "outputs": [
        {
          "output_type": "stream",
          "name": "stdout",
          "text": [
            "shape: (30, 3)\n",
            "┌─────────────────┬───────┬──────────────┐\n",
            "│ Cut             ┆ Color ┆ avg_price    │\n",
            "│ ---             ┆ ---   ┆ ---          │\n",
            "│ str             ┆ str   ┆ f64          │\n",
            "╞═════════════════╪═══════╪══════════════╡\n",
            "│ Signature-Ideal ┆ D     ┆ 19823.1      │\n",
            "│ Ideal           ┆ D     ┆ 18461.953571 │\n",
            "│ Ideal           ┆ F     ┆ 14729.426997 │\n",
            "│ Ideal           ┆ G     ┆ 13570.310145 │\n",
            "│ Signature-Ideal ┆ F     ┆ 13247.947368 │\n",
            "│ …               ┆ …     ┆ …            │\n",
            "│ Fair            ┆ F     ┆ 6063.625     │\n",
            "│ Fair            ┆ D     ┆ 6058.25      │\n",
            "│ Fair            ┆ H     ┆ 5908.5       │\n",
            "│ Fair            ┆ E     ┆ 5370.625     │\n",
            "│ Fair            ┆ I     ┆ 4573.1875    │\n",
            "└─────────────────┴───────┴──────────────┘\n"
          ]
        }
      ],
      "source": [
        "# Your code here: Question 9: \"My luxury competitor claims they have the best prices for every cut-color combination. Show me our pricing structure across these combinations - I want to see where we're competitive.\"\n",
        "\n",
        "color_cut= df.group_by(['Cut', 'Color']).agg(\n",
        "    pl.col(\"Price\").mean().alias(\"avg_price\"))\n",
        "color_cut = color_cut.sort(\"avg_price\", descending=True)\n",
        "print(color_cut)"
      ]
    },
    {
      "cell_type": "markdown",
      "metadata": {
        "id": "uYj7btVuxL6U"
      },
      "source": [
        "**Reflection:** How specific is your analysis now? What level of detail does each row represent?"
      ]
    },
    {
      "cell_type": "markdown",
      "metadata": {
        "id": "17aaOttgxL6U"
      },
      "source": [
        "**Your answer:** New grain ="
      ]
    },
    {
      "cell_type": "markdown",
      "metadata": {
        "id": "EzccDVmVxL6U"
      },
      "source": [
        "### Question 10: URGENT - \"Our biggest client is interested in purchasing entire inventory segments. They asked: 'Which color-cut combinations represent your highest total inventory value?' Show me the top 5 most valuable inventory segments by total worth, and include how many diamonds are in each segment.\"\n",
        "\n",
        "This is critical for tomorrow's negotiation."
      ]
    },
    {
      "cell_type": "code",
      "execution_count": null,
      "metadata": {
        "id": "L1ivinCaxL6U",
        "colab": {
          "base_uri": "https://localhost:8080/"
        },
        "outputId": "e2aff419-54c8-49d8-a861-faf906e0bfbd"
      },
      "outputs": [
        {
          "output_type": "stream",
          "name": "stdout",
          "text": [
            "shape: (5, 4)\n",
            "┌───────┬───────────┬─────────────┬───────┐\n",
            "│ Color ┆ Cut       ┆ total_price ┆ count │\n",
            "│ ---   ┆ ---       ┆ ---         ┆ ---   │\n",
            "│ str   ┆ str       ┆ i64         ┆ u32   │\n",
            "╞═══════╪═══════════╪═════════════╪═══════╡\n",
            "│ G     ┆ Ideal     ┆ 9363514     ┆ 690   │\n",
            "│ G     ┆ Very Good ┆ 7140620     ┆ 578   │\n",
            "│ F     ┆ Very Good ┆ 5648327     ┆ 455   │\n",
            "│ F     ┆ Ideal     ┆ 5346782     ┆ 363   │\n",
            "│ H     ┆ Ideal     ┆ 5279687     ┆ 458   │\n",
            "└───────┴───────────┴─────────────┴───────┘\n"
          ]
        }
      ],
      "source": [
        "# Your code here:\n",
        "\n",
        "valuable_inventory= df.group_by(['Color', 'Cut']).agg(\n",
        "    pl.col(\"Price\").sum().alias(\"total_price\"), pl.len().alias(\"count\")\n",
        ").sort(\"total_price\", descending=True)\n",
        "print(valuable_inventory.head(5))"
      ]
    },
    {
      "cell_type": "markdown",
      "metadata": {
        "id": "MvqF9iVDxL6V"
      },
      "source": [
        "## Debrief\n",
        "\n",
        "Congratulations! You've just completed your first day as the diamond company's data analyst.\n",
        "\n",
        "Remember:\n",
        "- CEOs speak in business language, not technical terms\n",
        "- Always understand what each row represents before analyzing\n",
        "- Business questions contain clues about which operations to use"
      ]
    },
    {
      "cell_type": "code",
      "metadata": {
        "id": "fc99c286"
      },
      "source": [],
      "execution_count": null,
      "outputs": []
    }
  ],
  "metadata": {
    "kernelspec": {
      "display_name": "Python 3",
      "language": "python",
      "name": "python3"
    },
    "language_info": {
      "codemirror_mode": {
        "name": "ipython",
        "version": 3
      },
      "file_extension": ".py",
      "mimetype": "text/x-python",
      "name": "python",
      "nbconvert_exporter": "python",
      "pygments_lexer": "ipython3",
      "version": "3.12.0"
    },
    "colab": {
      "provenance": []
    }
  },
  "nbformat": 4,
  "nbformat_minor": 0
}